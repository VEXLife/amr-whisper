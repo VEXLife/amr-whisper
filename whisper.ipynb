{
 "cells": [
  {
   "cell_type": "code",
   "execution_count": 57,
   "metadata": {},
   "outputs": [],
   "source": [
    "from transformers import WhisperTokenizer, WhisperFeatureExtractor, WhisperProcessor, WhisperForConditionalGeneration\n",
    "\n",
    "# Create a vocab json including modulation types and 0~31 modulation indices\n",
    "vocab = {\n",
    "    \"<|endoftext|>\": 0,\n",
    "    \" \": 1,\n",
    "}\n",
    "vocab_len = len(vocab)\n",
    "added_tokens = [\"<|8APSK|>\", \"<|8PSK|>\", \"<|8QAM|>\", \"<|16APSK|>\", \"<|16QAM|>\", \"<|32APSK|>\", \"<|32QAM|>\", \"<|BPSK|>\", \"<|MSK|>\", \"<|QPSK|>\", \"<|unknownmod|>\"]\n",
    "for added_token in added_tokens:\n",
    "    vocab[added_token] = vocab_len\n",
    "    vocab_len += 1\n",
    "vocab_len = len(vocab)\n",
    "for i in range(32):\n",
    "    added_tokens.append(str(i))\n",
    "    vocab[f\"<|{i}|>\"] = vocab_len\n",
    "    vocab_len += 1\n",
    "\n",
    "# Write to vocab.json\n",
    "import json\n",
    "with open(\"vocab.json\", \"w\") as f:\n",
    "    json.dump(vocab, f)"
   ]
  },
  {
   "cell_type": "code",
   "execution_count": 58,
   "metadata": {},
   "outputs": [
    {
     "data": {
      "text/plain": [
       "{'input_ids': [0, 3, 0, 0, 0, 14, 0, 16, 0, 43, 0, 22, 0, 0, 0], 'attention_mask': [1, 1, 1, 1, 1, 1, 1, 1, 1, 1, 1, 1, 1, 1, 1]}"
      ]
     },
     "execution_count": 58,
     "metadata": {},
     "output_type": "execute_result"
    }
   ],
   "source": [
    "tokenizer = WhisperTokenizer(vocab_file=\"vocab.json\", merges_file=\"merges.txt\", predict_timestamps=True, additional_special_tokens=added_tokens)\n",
    "tokenizer(\"<|8PSK|><|endoftext|> 1 3 30 9 <|endoftext|>\")"
   ]
  }
 ],
 "metadata": {
  "kernelspec": {
   "display_name": ".venv",
   "language": "python",
   "name": "python3"
  },
  "language_info": {
   "codemirror_mode": {
    "name": "ipython",
    "version": 3
   },
   "file_extension": ".py",
   "mimetype": "text/x-python",
   "name": "python",
   "nbconvert_exporter": "python",
   "pygments_lexer": "ipython3",
   "version": "3.12.8"
  }
 },
 "nbformat": 4,
 "nbformat_minor": 2
}
